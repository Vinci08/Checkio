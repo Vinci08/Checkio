{
 "cells": [
  {
   "cell_type": "markdown",
   "metadata": {},
   "source": [
    "# Mission Info\n",
    "\n",
    "You are given two strings and you have to find an index of the second occurrence of the second string in the first one.\n",
    "\n",
    "Let's go through the first example where you need to find the second occurrence of \"s\" in a word \"sims\". It’s easy to find its first occurrence with a function index or find which will point out that \"s\" is the first symbol in a word \"sims\" and therefore the index of the first occurrence is 0. But we have to find the second \"s\" which is 4th in a row and that means that the index of the second occurrence (and the answer to a question) is 3."
   ]
  },
  {
   "cell_type": "code",
   "execution_count": 3,
   "metadata": {},
   "outputs": [
    {
     "name": "stdout",
     "output_type": "stream",
     "text": [
      "Example:\n",
      "3\n",
      "You are awesome! All tests are done! Go Check it!\n"
     ]
    }
   ],
   "source": [
    "def second_index(text: str, symbol: str):\n",
    "    \"\"\"\n",
    "        returns the second index of a symbol in a given text\n",
    "    \"\"\"\n",
    "    # your code here\n",
    "    if symbol in text:\n",
    "        x = text.index(symbol)\n",
    "        second_half = text[(x+1):]\n",
    "        if symbol in second_half:\n",
    "            x2 = second_half.index(symbol) + x + 1\n",
    "        else: return None\n",
    "    else: return None\n",
    "    \n",
    "    return x2\n",
    "    \n",
    "    \n",
    "\n",
    "if __name__ == '__main__':\n",
    "    print('Example:')\n",
    "    print(second_index(\"sims\", \"s\"))\n",
    "\n",
    "    # These \"asserts\" are used for self-checking and not for an auto-testing\n",
    "    assert second_index(\"sims\", \"s\") == 3, \"First\"\n",
    "    assert second_index(\"find the river\", \"e\") == 12, \"Second\"\n",
    "    assert second_index(\"hi\", \" \") is None, \"Third\"\n",
    "    assert second_index(\"hi mayor\", \" \") is None, \"Fourth\"\n",
    "    assert second_index(\"hi mr Mayor\", \" \") == 5, \"Fifth\"\n",
    "    print('You are awesome! All tests are done! Go Check it!')"
   ]
  },
  {
   "cell_type": "code",
   "execution_count": null,
   "metadata": {},
   "outputs": [],
   "source": []
  }
 ],
 "metadata": {
  "kernelspec": {
   "display_name": "Python 3",
   "language": "python",
   "name": "python3"
  },
  "language_info": {
   "codemirror_mode": {
    "name": "ipython",
    "version": 3
   },
   "file_extension": ".py",
   "mimetype": "text/x-python",
   "name": "python",
   "nbconvert_exporter": "python",
   "pygments_lexer": "ipython3",
   "version": "3.6.4"
  }
 },
 "nbformat": 4,
 "nbformat_minor": 2
}
