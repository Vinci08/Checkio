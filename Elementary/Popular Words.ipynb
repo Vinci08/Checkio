{
 "cells": [
  {
   "cell_type": "markdown",
   "metadata": {},
   "source": [
    "# Mission Info\n",
    "\n",
    "You are given the current stock prices. You have to find out which stocks cost more.In this mission your task is to determine the popularity of certain words in the text.\n",
    "\n",
    "At the input of your function are given 2 arguments: the text and the array of words the popularity of which you need to determine.\n",
    "\n",
    "When solving this task pay attention to the following points:\n",
    "\n",
    "The words should be sought in all registers. This means that if you need to find a word \"one\" then words like \"one\", \"One\", \"oNe\", \"ONE\" etc. will do.\n",
    "The search words are always indicated in the lowercase.\n",
    "If the word wasn’t found even once, it has to be returned in the dictionary with 0 (zero) value."
   ]
  },
  {
   "cell_type": "code",
   "execution_count": 6,
   "metadata": {},
   "outputs": [
    {
     "name": "stdout",
     "output_type": "stream",
     "text": [
      "Example:\n",
      "{'i': 4, 'was': 3, 'three': 0}\n",
      "Coding complete? Click 'Check' to earn cool rewards!\n"
     ]
    }
   ],
   "source": [
    "import re\n",
    "\n",
    "def popular_words(text, words):\n",
    "    # your code here\n",
    "    result = {}\n",
    "    text = re.split('[. , \\n]', text.lower())\n",
    "     \n",
    "    for word in words:\n",
    "        result[word] = text.count(word)\n",
    "        \n",
    "    return result\n",
    "\n",
    "\n",
    "if __name__ == '__main__':\n",
    "    print(\"Example:\")\n",
    "    print(popular_words('''\n",
    "When I was One,\n",
    "I had just begun.\n",
    "When I was Two,\n",
    "I was nearly new.\n",
    "''', ['i', 'was', 'three']))\n",
    "\n",
    "    # These \"asserts\" are used for self-checking and not for an auto-testing\n",
    "    assert popular_words('''\n",
    "When I was One,\n",
    "I had just begun.\n",
    "When I was Two,\n",
    "I was nearly new.\n",
    "''', ['i', 'was', 'three']) == {\n",
    "        'i': 4,\n",
    "        'was': 3,\n",
    "        'three': 0\n",
    "    }\n",
    "    print(\"Coding complete? Click 'Check' to earn cool rewards!\")"
   ]
  }
 ],
 "metadata": {
  "kernelspec": {
   "display_name": "Python 3",
   "language": "python",
   "name": "python3"
  },
  "language_info": {
   "codemirror_mode": {
    "name": "ipython",
    "version": 3
   },
   "file_extension": ".py",
   "mimetype": "text/x-python",
   "name": "python",
   "nbconvert_exporter": "python",
   "pygments_lexer": "ipython3",
   "version": "3.6.4"
  }
 },
 "nbformat": 4,
 "nbformat_minor": 2
}
