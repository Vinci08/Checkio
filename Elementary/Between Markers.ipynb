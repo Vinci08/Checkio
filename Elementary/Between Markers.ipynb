{
 "cells": [
  {
   "cell_type": "markdown",
   "metadata": {},
   "source": [
    "# Mission Info\n",
    "\n",
    "You are given a string and two markers (the initial and final). You have to find a substring enclosed between these two markers. But there are a few important conditions:\n",
    "\n",
    "The initial and final markers are always different.\n",
    "If there is no initial marker then the beginning should be considered as the beginning of a string.\n",
    "If there is no final marker then the ending should be considered as the ending of a string.\n",
    "If the initial and final markers are missing then simply return the whole string.\n",
    "If the final marker is standing in front of the initial one then return an empty string."
   ]
  },
  {
   "cell_type": "code",
   "execution_count": 4,
   "metadata": {},
   "outputs": [
    {
     "name": "stdout",
     "output_type": "stream",
     "text": [
      "Example:\n",
      "apple\n",
      "Wow, you are doing pretty good. Time to check it!\n"
     ]
    }
   ],
   "source": [
    "def between_markers(text: str, begin: str, end: str) -> str:\n",
    "    \"\"\"\n",
    "        returns substring between two given markers\n",
    "    \"\"\"\n",
    "    # your code here\n",
    "    \n",
    "    if begin in text:\n",
    "      if end in text:\n",
    "        text = text[len(begin)+text.index(begin):text.index(end)]\n",
    "      else:\n",
    "        text = text[len(begin)+text.index(begin):]\n",
    "    else:\n",
    "      if end in text:\n",
    "        text = text[:text.index(end)]\n",
    "      else:\n",
    "        return text\n",
    "    \n",
    "    return text\n",
    "\n",
    "if __name__ == '__main__':\n",
    "    print('Example:')\n",
    "    print(between_markers('What is >apple<', '>', '<'))\n",
    "\n",
    "    # These \"asserts\" are used for self-checking and not for testing\n",
    "    assert between_markers('What is >apple<', '>', '<') == \"apple\", \"One sym\"\n",
    "    assert between_markers(\"<head><title>My new site</title></head>\",\n",
    "                           \"<title>\", \"</title>\") == \"My new site\", \"HTML\"\n",
    "    assert between_markers('No[/b] hi', '[b]', '[/b]') == 'No', 'No opened'\n",
    "    assert between_markers('No [b]hi', '[b]', '[/b]') == 'hi', 'No close'\n",
    "    assert between_markers('No hi', '[b]', '[/b]') == 'No hi', 'No markers at all'\n",
    "    assert between_markers('No <hi>', '>', '<') == '', 'Wrong direction'\n",
    "    print('Wow, you are doing pretty good. Time to check it!')"
   ]
  },
  {
   "cell_type": "code",
   "execution_count": null,
   "metadata": {},
   "outputs": [],
   "source": []
  }
 ],
 "metadata": {
  "kernelspec": {
   "display_name": "Python 3",
   "language": "python",
   "name": "python3"
  },
  "language_info": {
   "codemirror_mode": {
    "name": "ipython",
    "version": 3
   },
   "file_extension": ".py",
   "mimetype": "text/x-python",
   "name": "python",
   "nbconvert_exporter": "python",
   "pygments_lexer": "ipython3",
   "version": "3.6.4"
  }
 },
 "nbformat": 4,
 "nbformat_minor": 2
}
